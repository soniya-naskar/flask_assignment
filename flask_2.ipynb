{
 "cells": [
  {
   "cell_type": "code",
   "execution_count": null,
   "id": "e9cecac2-b5bd-434d-8010-4acc2943f9f3",
   "metadata": {},
   "outputs": [],
   "source": [
    "# question 1\n",
    "A GET message is send, to retieve data from the server. POST message is send to the server to provide data. "
   ]
  },
  {
   "cell_type": "code",
   "execution_count": null,
   "id": "fffc4dca-49d7-4d70-bc68-71bf6d7f5497",
   "metadata": {},
   "outputs": [],
   "source": [
    "# question 2\n",
    "The Request, in Flask, is an object that contains all the data sent from the Client to Server.\n",
    "This data can be recovered using the GET/POST Methods"
   ]
  },
  {
   "cell_type": "code",
   "execution_count": null,
   "id": "b9cef362-adf6-482e-9fc8-02f9deb791d4",
   "metadata": {},
   "outputs": [],
   "source": [
    "# question 3\n",
    "A redirect is used in the Flask class to send the user to a particular URL with the status code. conversely, this status code additionally identifies the issue."
   ]
  },
  {
   "cell_type": "code",
   "execution_count": null,
   "id": "a212f5c6-d868-43ea-a689-5e1cda88c5eb",
   "metadata": {},
   "outputs": [],
   "source": [
    "#question 4\n",
    "Templates are files that contain static data as well as placeholders for dynamic data. A template is rendered with specific data to produce a final document"
   ]
  },
  {
   "cell_type": "code",
   "execution_count": null,
   "id": "434e0d80-830e-400f-93c4-2338e25cde9f",
   "metadata": {},
   "outputs": [],
   "source": [
    "In flask we use render_template to attach files like html document which is being rendered on the app.py file , so we connect the frontend file with the backend file to get access to the UI documents with the backened,it renders the webpage the user had requested "
   ]
  }
 ],
 "metadata": {
  "kernelspec": {
   "display_name": "Python 3 (ipykernel)",
   "language": "python",
   "name": "python3"
  },
  "language_info": {
   "codemirror_mode": {
    "name": "ipython",
    "version": 3
   },
   "file_extension": ".py",
   "mimetype": "text/x-python",
   "name": "python",
   "nbconvert_exporter": "python",
   "pygments_lexer": "ipython3",
   "version": "3.10.8"
  }
 },
 "nbformat": 4,
 "nbformat_minor": 5
}
